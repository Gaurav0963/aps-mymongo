{
 "cells": [
  {
   "cell_type": "code",
   "execution_count": 1,
   "metadata": {},
   "outputs": [],
   "source": [
    "import pandas as pd"
   ]
  },
  {
   "cell_type": "code",
   "execution_count": 5,
   "metadata": {},
   "outputs": [],
   "source": [
    "df = pd.read_csv('/config/workspace/artifact/03102023__222621/data_ingestion/dataset/train.csv')"
   ]
  },
  {
   "cell_type": "code",
   "execution_count": 8,
   "metadata": {},
   "outputs": [
    {
     "data": {
      "text/plain": [
       "class     0.000000\n",
       "aa_000    0.000000\n",
       "ab_000    0.772055\n",
       "ac_000    0.059033\n",
       "ad_000    0.254059\n",
       "            ...   \n",
       "ee_007    0.010432\n",
       "ee_008    0.010432\n",
       "ee_009    0.010432\n",
       "ef_000    0.047478\n",
       "eg_000    0.047461\n",
       "Length: 171, dtype: float64"
      ]
     },
     "execution_count": 8,
     "metadata": {},
     "output_type": "execute_result"
    }
   ],
   "source": [
    "df.isnull().mean()"
   ]
  },
  {
   "cell_type": "code",
   "execution_count": 10,
   "metadata": {},
   "outputs": [
    {
     "data": {
      "text/plain": [
       "class     0.000000\n",
       "aa_000    0.000000\n",
       "ab_000    0.772055\n",
       "ac_000    0.059033\n",
       "ad_000    0.254059\n",
       "            ...   \n",
       "ee_007    0.010432\n",
       "ee_008    0.010432\n",
       "ee_009    0.010432\n",
       "ef_000    0.047478\n",
       "eg_000    0.047461\n",
       "Length: 171, dtype: float64"
      ]
     },
     "execution_count": 10,
     "metadata": {},
     "output_type": "execute_result"
    }
   ],
   "source": [
    "df.isnull().sum()/df.shape[0]"
   ]
  },
  {
   "cell_type": "code",
   "execution_count": 17,
   "metadata": {},
   "outputs": [
    {
     "data": {
      "text/plain": [
       "171"
      ]
     },
     "execution_count": 17,
     "metadata": {},
     "output_type": "execute_result"
    }
   ],
   "source": [
    "df.isnull().mean().values.__len__()"
   ]
  },
  {
   "cell_type": "code",
   "execution_count": 19,
   "metadata": {},
   "outputs": [
    {
     "name": "stdout",
     "output_type": "stream",
     "text": [
      "class :  0.0\n",
      "aa_000 :  0.0\n",
      "ab_000 :  77.2055267702936\n",
      "ac_000 :  5.903281519861831\n",
      "ad_000 :  25.405872193436963\n",
      "ae_000 :  4.3592400690846285\n",
      "af_000 :  4.3592400690846285\n",
      "ag_000 :  1.0414507772020725\n",
      "ag_001 :  1.0414507772020725\n",
      "ag_002 :  1.0414507772020725\n",
      "ag_003 :  1.0414507772020725\n",
      "ag_004 :  1.0414507772020725\n",
      "ag_005 :  1.0414507772020725\n",
      "ag_006 :  1.0414507772020725\n",
      "ag_007 :  1.0414507772020725\n",
      "ag_008 :  1.0414507772020725\n",
      "ag_009 :  1.0414507772020725\n",
      "ah_000 :  1.0224525043177894\n",
      "ai_000 :  1.0293609671848014\n",
      "aj_000 :  1.0293609671848014\n",
      "ak_000 :  7.637305699481865\n",
      "al_000 :  1.0345423143350605\n",
      "am_0 :  1.0293609671848014\n",
      "an_000 :  1.0345423143350605\n",
      "ao_000 :  0.9430051813471502\n",
      "ap_000 :  1.0345423143350605\n",
      "aq_000 :  0.9430051813471502\n",
      "ar_000 :  4.746113989637306\n",
      "as_000 :  1.0293609671848014\n",
      "at_000 :  1.0293609671848014\n",
      "au_000 :  1.0293609671848014\n",
      "av_000 :  4.3644214162348876\n",
      "ax_000 :  4.366148531951641\n",
      "ay_000 :  1.0431778929188256\n",
      "ay_001 :  1.0431778929188256\n",
      "ay_002 :  1.0431778929188256\n",
      "ay_003 :  1.0431778929188256\n",
      "ay_004 :  1.0431778929188256\n",
      "ay_005 :  1.0431778929188256\n",
      "ay_006 :  1.0431778929188256\n",
      "ay_007 :  1.0431778929188256\n",
      "ay_008 :  1.0431778929188256\n",
      "ay_009 :  1.0431778929188256\n",
      "az_000 :  1.0431778929188256\n",
      "az_001 :  1.0431778929188256\n",
      "az_002 :  1.0431778929188256\n",
      "az_003 :  1.0431778929188256\n",
      "az_004 :  1.0431778929188256\n",
      "az_005 :  1.0431778929188256\n",
      "az_006 :  1.0431778929188256\n",
      "az_007 :  1.0431778929188256\n",
      "az_008 :  1.0431778929188256\n",
      "az_009 :  1.0431778929188256\n",
      "ba_000 :  1.0587219343696028\n",
      "ba_001 :  1.0587219343696028\n",
      "ba_002 :  1.0587219343696028\n",
      "ba_003 :  1.0587219343696028\n",
      "ba_004 :  1.0587219343696028\n",
      "ba_005 :  1.0587219343696028\n",
      "ba_006 :  1.0587219343696028\n",
      "ba_007 :  1.0587219343696028\n",
      "ba_008 :  1.0587219343696028\n",
      "ba_009 :  1.0587219343696028\n",
      "bb_000 :  1.0224525043177894\n",
      "bc_000 :  4.751295336787565\n",
      "bd_000 :  4.753022452504318\n",
      "be_000 :  4.367875647668393\n",
      "bf_000 :  4.360967184801382\n",
      "bg_000 :  1.0345423143350605\n",
      "bh_000 :  1.0345423143350605\n",
      "bi_000 :  0.9430051813471502\n",
      "bj_000 :  0.9430051813471502\n",
      "bk_000 :  37.975820379965455\n",
      "bl_000 :  45.0\n",
      "bm_000 :  65.50431778929187\n",
      "bn_000 :  72.77892918825562\n",
      "bo_000 :  76.58549222797927\n",
      "bp_000 :  78.89464594127806\n",
      "bq_000 :  80.65975820379965\n",
      "br_000 :  81.53195164075993\n",
      "bs_000 :  1.146804835924007\n",
      "bt_000 :  0.23488773747841105\n",
      "bu_000 :  1.093264248704663\n",
      "bv_000 :  1.093264248704663\n",
      "bx_000 :  5.2072538860103625\n",
      "by_000 :  0.7340241796200345\n",
      "bz_000 :  4.746113989637306\n",
      "ca_000 :  7.519861830742659\n",
      "cb_000 :  1.146804835924007\n",
      "cc_000 :  5.203799654576857\n",
      "cd_000 :  1.1018998272884284\n",
      "ce_000 :  4.3713298791019\n",
      "cf_000 :  25.405872193436963\n",
      "cg_000 :  25.405872193436963\n",
      "ch_000 :  25.405872193436963\n",
      "ci_000 :  0.5544041450777203\n",
      "cj_000 :  0.5544041450777203\n",
      "ck_000 :  0.5544041450777203\n",
      "cl_000 :  15.79965457685665\n",
      "cm_000 :  16.402417962003454\n",
      "cn_000 :  1.0569948186528497\n",
      "cn_001 :  1.0569948186528497\n",
      "cn_002 :  1.0569948186528497\n",
      "cn_003 :  1.0569948186528497\n",
      "cn_004 :  1.0569948186528497\n",
      "cn_005 :  1.0569948186528497\n",
      "cn_006 :  1.0569948186528497\n",
      "cn_007 :  1.0569948186528497\n",
      "cn_008 :  1.0569948186528497\n",
      "cn_009 :  1.0569948186528497\n",
      "co_000 :  25.405872193436963\n",
      "cp_000 :  4.747841105354059\n",
      "cq_000 :  1.093264248704663\n",
      "cr_000 :  77.2055267702936\n",
      "cs_000 :  1.0397236614853196\n",
      "cs_001 :  1.0397236614853196\n",
      "cs_002 :  1.0397236614853196\n",
      "cs_003 :  1.0397236614853196\n",
      "cs_004 :  1.0397236614853196\n",
      "cs_005 :  1.0397236614853196\n",
      "cs_006 :  1.0397236614853196\n",
      "cs_007 :  1.0397236614853196\n",
      "cs_008 :  1.0397236614853196\n",
      "cs_009 :  1.0397236614853196\n",
      "ct_000 :  23.569948186528496\n",
      "cu_000 :  23.569948186528496\n",
      "cv_000 :  23.569948186528496\n",
      "cx_000 :  23.569948186528496\n",
      "cy_000 :  23.569948186528496\n",
      "cz_000 :  23.569948186528496\n",
      "da_000 :  23.569948186528496\n",
      "db_000 :  23.569948186528496\n",
      "dc_000 :  23.569948186528496\n",
      "dd_000 :  4.3713298791019\n",
      "de_000 :  4.746113989637306\n",
      "df_000 :  6.986183074265975\n",
      "dg_000 :  6.987910189982729\n",
      "dh_000 :  6.986183074265975\n",
      "di_000 :  6.984455958549223\n",
      "dj_000 :  6.984455958549223\n",
      "dk_000 :  6.987910189982729\n",
      "dl_000 :  6.986183074265975\n",
      "dm_000 :  6.989637305699483\n",
      "dn_000 :  1.093264248704663\n",
      "do_000 :  4.747841105354059\n",
      "dp_000 :  4.753022452504318\n",
      "dq_000 :  4.753022452504318\n",
      "dr_000 :  4.751295336787565\n",
      "ds_000 :  4.753022452504318\n",
      "dt_000 :  4.753022452504318\n",
      "du_000 :  4.751295336787565\n",
      "dv_000 :  4.751295336787565\n",
      "dx_000 :  4.746113989637306\n",
      "dy_000 :  4.747841105354059\n",
      "dz_000 :  4.746113989637306\n",
      "ea_000 :  4.746113989637306\n",
      "eb_000 :  6.984455958549223\n",
      "ec_00 :  17.0\n",
      "ed_000 :  15.79965457685665\n",
      "ee_000 :  1.0431778929188256\n",
      "ee_001 :  1.0431778929188256\n",
      "ee_002 :  1.0431778929188256\n",
      "ee_003 :  1.0431778929188256\n",
      "ee_004 :  1.0431778929188256\n",
      "ee_005 :  1.0431778929188256\n",
      "ee_006 :  1.0431778929188256\n",
      "ee_007 :  1.0431778929188256\n",
      "ee_008 :  1.0431778929188256\n",
      "ee_009 :  1.0431778929188256\n",
      "ef_000 :  4.747841105354059\n",
      "eg_000 :  4.746113989637306\n"
     ]
    }
   ],
   "source": [
    "drop_column_list = []\n",
    "for column_name, percent_value in zip(df.isnull().mean().index, df.isnull().mean().values):\n",
    "    print(column_name, \": \",percent_value*100)\n",
    "    if percent_value>0.3:\n",
    "        drop_column_list.append(column_name)"
   ]
  },
  {
   "cell_type": "code",
   "execution_count": 20,
   "metadata": {},
   "outputs": [
    {
     "data": {
      "text/plain": [
       "['ab_000',\n",
       " 'bk_000',\n",
       " 'bl_000',\n",
       " 'bm_000',\n",
       " 'bn_000',\n",
       " 'bo_000',\n",
       " 'bp_000',\n",
       " 'bq_000',\n",
       " 'br_000',\n",
       " 'cr_000']"
      ]
     },
     "execution_count": 20,
     "metadata": {},
     "output_type": "execute_result"
    }
   ],
   "source": [
    "drop_column_list"
   ]
  },
  {
   "cell_type": "code",
   "execution_count": 26,
   "metadata": {},
   "outputs": [
    {
     "data": {
      "text/html": [
       "<div>\n",
       "<style scoped>\n",
       "    .dataframe tbody tr th:only-of-type {\n",
       "        vertical-align: middle;\n",
       "    }\n",
       "\n",
       "    .dataframe tbody tr th {\n",
       "        vertical-align: top;\n",
       "    }\n",
       "\n",
       "    .dataframe thead th {\n",
       "        text-align: right;\n",
       "    }\n",
       "</style>\n",
       "<table border=\"1\" class=\"dataframe\">\n",
       "  <thead>\n",
       "    <tr style=\"text-align: right;\">\n",
       "      <th></th>\n",
       "      <th>0</th>\n",
       "    </tr>\n",
       "  </thead>\n",
       "  <tbody>\n",
       "    <tr>\n",
       "      <th>br_000</th>\n",
       "      <td>81.531952</td>\n",
       "    </tr>\n",
       "    <tr>\n",
       "      <th>bq_000</th>\n",
       "      <td>80.659758</td>\n",
       "    </tr>\n",
       "    <tr>\n",
       "      <th>bp_000</th>\n",
       "      <td>78.894646</td>\n",
       "    </tr>\n",
       "    <tr>\n",
       "      <th>ab_000</th>\n",
       "      <td>77.205527</td>\n",
       "    </tr>\n",
       "    <tr>\n",
       "      <th>cr_000</th>\n",
       "      <td>77.205527</td>\n",
       "    </tr>\n",
       "    <tr>\n",
       "      <th>bo_000</th>\n",
       "      <td>76.585492</td>\n",
       "    </tr>\n",
       "    <tr>\n",
       "      <th>bn_000</th>\n",
       "      <td>72.778929</td>\n",
       "    </tr>\n",
       "    <tr>\n",
       "      <th>bm_000</th>\n",
       "      <td>65.504318</td>\n",
       "    </tr>\n",
       "    <tr>\n",
       "      <th>bl_000</th>\n",
       "      <td>45.000000</td>\n",
       "    </tr>\n",
       "    <tr>\n",
       "      <th>bk_000</th>\n",
       "      <td>37.975820</td>\n",
       "    </tr>\n",
       "  </tbody>\n",
       "</table>\n",
       "</div>"
      ],
      "text/plain": [
       "                0\n",
       "br_000  81.531952\n",
       "bq_000  80.659758\n",
       "bp_000  78.894646\n",
       "ab_000  77.205527\n",
       "cr_000  77.205527\n",
       "bo_000  76.585492\n",
       "bn_000  72.778929\n",
       "bm_000  65.504318\n",
       "bl_000  45.000000\n",
       "bk_000  37.975820"
      ]
     },
     "execution_count": 26,
     "metadata": {},
     "output_type": "execute_result"
    }
   ],
   "source": [
    "missing = df.isna().sum().div(df.shape[0]).mul(100).to_frame().sort_values(by=0, ascending = False)\n",
    "missing[missing[0] > 30]"
   ]
  },
  {
   "cell_type": "code",
   "execution_count": 27,
   "metadata": {},
   "outputs": [
    {
     "data": {
      "text/html": [
       "<div>\n",
       "<style scoped>\n",
       "    .dataframe tbody tr th:only-of-type {\n",
       "        vertical-align: middle;\n",
       "    }\n",
       "\n",
       "    .dataframe tbody tr th {\n",
       "        vertical-align: top;\n",
       "    }\n",
       "\n",
       "    .dataframe thead th {\n",
       "        text-align: right;\n",
       "    }\n",
       "</style>\n",
       "<table border=\"1\" class=\"dataframe\">\n",
       "  <thead>\n",
       "    <tr style=\"text-align: right;\">\n",
       "      <th></th>\n",
       "      <th>0</th>\n",
       "    </tr>\n",
       "  </thead>\n",
       "  <tbody>\n",
       "    <tr>\n",
       "      <th>br_000</th>\n",
       "      <td>81.531952</td>\n",
       "    </tr>\n",
       "    <tr>\n",
       "      <th>bq_000</th>\n",
       "      <td>80.659758</td>\n",
       "    </tr>\n",
       "    <tr>\n",
       "      <th>bp_000</th>\n",
       "      <td>78.894646</td>\n",
       "    </tr>\n",
       "    <tr>\n",
       "      <th>ab_000</th>\n",
       "      <td>77.205527</td>\n",
       "    </tr>\n",
       "    <tr>\n",
       "      <th>cr_000</th>\n",
       "      <td>77.205527</td>\n",
       "    </tr>\n",
       "    <tr>\n",
       "      <th>bo_000</th>\n",
       "      <td>76.585492</td>\n",
       "    </tr>\n",
       "    <tr>\n",
       "      <th>bn_000</th>\n",
       "      <td>72.778929</td>\n",
       "    </tr>\n",
       "    <tr>\n",
       "      <th>bm_000</th>\n",
       "      <td>65.504318</td>\n",
       "    </tr>\n",
       "    <tr>\n",
       "      <th>bl_000</th>\n",
       "      <td>45.000000</td>\n",
       "    </tr>\n",
       "    <tr>\n",
       "      <th>bk_000</th>\n",
       "      <td>37.975820</td>\n",
       "    </tr>\n",
       "  </tbody>\n",
       "</table>\n",
       "</div>"
      ],
      "text/plain": [
       "                0\n",
       "br_000  81.531952\n",
       "bq_000  80.659758\n",
       "bp_000  78.894646\n",
       "ab_000  77.205527\n",
       "cr_000  77.205527\n",
       "bo_000  76.585492\n",
       "bn_000  72.778929\n",
       "bm_000  65.504318\n",
       "bl_000  45.000000\n",
       "bk_000  37.975820"
      ]
     },
     "execution_count": 27,
     "metadata": {},
     "output_type": "execute_result"
    }
   ],
   "source": [
    "missing = df.isna().mean().mul(100).to_frame().sort_values(by=0, ascending = False)\n",
    "missing[missing[0] > 30]"
   ]
  },
  {
   "cell_type": "code",
   "execution_count": 28,
   "metadata": {},
   "outputs": [],
   "source": [
    "moreThan30percentNull = df.isnull().mean()\n",
    "moreThan30percentNull[moreThan30percentNull>0.3].index"
   ]
  },
  {
   "cell_type": "code",
   "execution_count": 31,
   "metadata": {},
   "outputs": [
    {
     "data": {
      "text/plain": [
       "Index(['ab_000', 'bk_000', 'bl_000', 'bm_000', 'bn_000', 'bo_000', 'bp_000',\n",
       "       'bq_000', 'br_000', 'cr_000'],\n",
       "      dtype='object')"
      ]
     },
     "execution_count": 31,
     "metadata": {},
     "output_type": "execute_result"
    }
   ],
   "source": []
  },
  {
   "cell_type": "code",
   "execution_count": 1,
   "metadata": {},
   "outputs": [
    {
     "name": "stdout",
     "output_type": "stream",
     "text": [
      "loading environment variable form .env file\n"
     ]
    }
   ],
   "source": [
    "from sensor.predictor import ModelResolver"
   ]
  },
  {
   "cell_type": "code",
   "execution_count": 2,
   "metadata": {},
   "outputs": [],
   "source": [
    "m = ModelResolver()"
   ]
  },
  {
   "cell_type": "code",
   "execution_count": 3,
   "metadata": {},
   "outputs": [
    {
     "ename": "Exception",
     "evalue": "Model is not available",
     "output_type": "error",
     "traceback": [
      "\u001b[0;31m---------------------------------------------------------------------------\u001b[0m",
      "\u001b[0;31mException\u001b[0m                                 Traceback (most recent call last)",
      "Cell \u001b[0;32mIn[3], line 1\u001b[0m\n\u001b[0;32m----> 1\u001b[0m \u001b[43mm\u001b[49m\u001b[38;5;241;43m.\u001b[39;49m\u001b[43mget_latest_model_path1\u001b[49m\u001b[43m(\u001b[49m\u001b[43m)\u001b[49m\n",
      "File \u001b[0;32m~/workspace/sensor/predictor.py:62\u001b[0m, in \u001b[0;36mModelResolver.get_latest_model_path1\u001b[0;34m(self)\u001b[0m\n\u001b[1;32m     60\u001b[0m     \u001b[39mreturn\u001b[39;00m os\u001b[39m.\u001b[39mpath\u001b[39m.\u001b[39mjoin(latest_dir,\u001b[39mself\u001b[39m\u001b[39m.\u001b[39mmodel_dir_name,MODEL_FILE_NAME)\n\u001b[1;32m     61\u001b[0m \u001b[39mexcept\u001b[39;00m \u001b[39mException\u001b[39;00m \u001b[39mas\u001b[39;00m e:\n\u001b[0;32m---> 62\u001b[0m     \u001b[39mraise\u001b[39;00m e\n",
      "File \u001b[0;32m~/workspace/sensor/predictor.py:59\u001b[0m, in \u001b[0;36mModelResolver.get_latest_model_path1\u001b[0;34m(self)\u001b[0m\n\u001b[1;32m     57\u001b[0m     latest_dir \u001b[39m=\u001b[39m \u001b[39mself\u001b[39m\u001b[39m.\u001b[39mget_latest_dir_path()\n\u001b[1;32m     58\u001b[0m     \u001b[39mif\u001b[39;00m latest_dir \u001b[39mis\u001b[39;00m \u001b[39mNone\u001b[39;00m:\n\u001b[0;32m---> 59\u001b[0m         \u001b[39mraise\u001b[39;00m \u001b[39mException\u001b[39;00m(\u001b[39mf\u001b[39m\u001b[39m\"\u001b[39m\u001b[39mModel is not available\u001b[39m\u001b[39m\"\u001b[39m)\n\u001b[1;32m     60\u001b[0m     \u001b[39mreturn\u001b[39;00m os\u001b[39m.\u001b[39mpath\u001b[39m.\u001b[39mjoin(latest_dir,\u001b[39mself\u001b[39m\u001b[39m.\u001b[39mmodel_dir_name,MODEL_FILE_NAME)\n\u001b[1;32m     61\u001b[0m \u001b[39mexcept\u001b[39;00m \u001b[39mException\u001b[39;00m \u001b[39mas\u001b[39;00m e:\n",
      "\u001b[0;31mException\u001b[0m: Model is not available"
     ]
    }
   ],
   "source": [
    "m.get_latest_model_path1()"
   ]
  },
  {
   "cell_type": "code",
   "execution_count": 4,
   "metadata": {},
   "outputs": [
    {
     "ename": "Exception",
     "evalue": "Model NOT available",
     "output_type": "error",
     "traceback": [
      "\u001b[0;31m---------------------------------------------------------------------------\u001b[0m",
      "\u001b[0;31mException\u001b[0m                                 Traceback (most recent call last)",
      "Cell \u001b[0;32mIn[4], line 1\u001b[0m\n\u001b[0;32m----> 1\u001b[0m \u001b[43mm\u001b[49m\u001b[38;5;241;43m.\u001b[39;49m\u001b[43mget_latest_model_path\u001b[49m\u001b[43m(\u001b[49m\u001b[43m)\u001b[49m\n",
      "File \u001b[0;32m~/workspace/sensor/predictor.py:53\u001b[0m, in \u001b[0;36mModelResolver.get_latest_model_path\u001b[0;34m(self)\u001b[0m\n\u001b[1;32m     51\u001b[0m     \u001b[39mreturn\u001b[39;00m os\u001b[39m.\u001b[39mpath\u001b[39m.\u001b[39mjoin(latest_dir, \u001b[39mself\u001b[39m\u001b[39m.\u001b[39mmodel_dir_name, MODEL_FILE_NAME)\n\u001b[1;32m     52\u001b[0m \u001b[39mexcept\u001b[39;00m \u001b[39mException\u001b[39;00m \u001b[39mas\u001b[39;00m e:\n\u001b[0;32m---> 53\u001b[0m     \u001b[39mraise\u001b[39;00m e\n",
      "File \u001b[0;32m~/workspace/sensor/predictor.py:50\u001b[0m, in \u001b[0;36mModelResolver.get_latest_model_path\u001b[0;34m(self)\u001b[0m\n\u001b[1;32m     48\u001b[0m     latest_dir \u001b[39m=\u001b[39m \u001b[39mself\u001b[39m\u001b[39m.\u001b[39mget_latest_dir_path()\n\u001b[1;32m     49\u001b[0m     \u001b[39mif\u001b[39;00m latest_dir \u001b[39mis\u001b[39;00m \u001b[39mNone\u001b[39;00m:\n\u001b[0;32m---> 50\u001b[0m         \u001b[39mraise\u001b[39;00m \u001b[39mException\u001b[39;00m(\u001b[39mf\u001b[39m\u001b[39m\"\u001b[39m\u001b[39mModel NOT available\u001b[39m\u001b[39m\"\u001b[39m)\n\u001b[1;32m     51\u001b[0m     \u001b[39mreturn\u001b[39;00m os\u001b[39m.\u001b[39mpath\u001b[39m.\u001b[39mjoin(latest_dir, \u001b[39mself\u001b[39m\u001b[39m.\u001b[39mmodel_dir_name, MODEL_FILE_NAME)\n\u001b[1;32m     52\u001b[0m \u001b[39mexcept\u001b[39;00m \u001b[39mException\u001b[39;00m \u001b[39mas\u001b[39;00m e:\n",
      "\u001b[0;31mException\u001b[0m: Model NOT available"
     ]
    }
   ],
   "source": [
    "m.get_latest_model_path()"
   ]
  },
  {
   "cell_type": "code",
   "execution_count": 19,
   "metadata": {},
   "outputs": [
    {
     "data": {
      "text/plain": [
       "'saved_models/0'"
      ]
     },
     "execution_count": 19,
     "metadata": {},
     "output_type": "execute_result"
    }
   ],
   "source": [
    "m.get_latest_SAVED_DIR_path()"
   ]
  },
  {
   "cell_type": "code",
   "execution_count": 20,
   "metadata": {},
   "outputs": [
    {
     "data": {
      "text/plain": [
       "'saved_models/0/model/model.pkl'"
      ]
     },
     "execution_count": 20,
     "metadata": {},
     "output_type": "execute_result"
    }
   ],
   "source": [
    "m.get_latest_SAVED_MODEL_path()"
   ]
  },
  {
   "cell_type": "code",
   "execution_count": 5,
   "metadata": {},
   "outputs": [
    {
     "data": {
      "text/plain": [
       "'saved_models/0/target_encoder/target_encoder.pkl'"
      ]
     },
     "execution_count": 5,
     "metadata": {},
     "output_type": "execute_result"
    }
   ],
   "source": [
    "m.get_latest_SAVED_TARGET_ENCODER_path()"
   ]
  },
  {
   "cell_type": "code",
   "execution_count": 6,
   "metadata": {},
   "outputs": [
    {
     "data": {
      "text/plain": [
       "'saved_models/0/transformer/transformer.pkl'"
      ]
     },
     "execution_count": 6,
     "metadata": {},
     "output_type": "execute_result"
    }
   ],
   "source": [
    "m.get_latest_SAVED_TRANSFORMER_path()"
   ]
  },
  {
   "cell_type": "code",
   "execution_count": 36,
   "metadata": {},
   "outputs": [],
   "source": [
    "m.get_latest_dir_path()"
   ]
  },
  {
   "cell_type": "code",
   "execution_count": 44,
   "metadata": {},
   "outputs": [
    {
     "ename": "SensorException",
     "evalue": "Error occurred python script name [/config/workspace/sensor/predictor.py] line number [48] error message [expected str, bytes or os.PathLike object, not NoneType]",
     "output_type": "error",
     "traceback": [
      "\u001b[0;31m---------------------------------------------------------------------------\u001b[0m",
      "\u001b[0;31mTypeError\u001b[0m                                 Traceback (most recent call last)",
      "File \u001b[0;32m~/workspace/sensor/predictor.py:48\u001b[0m, in \u001b[0;36mModelResolver.get_latest_model_path\u001b[0;34m(self)\u001b[0m\n\u001b[1;32m     47\u001b[0m     latest_dir \u001b[39m=\u001b[39m \u001b[39mself\u001b[39m\u001b[39m.\u001b[39mget_latest_dir_path()\n\u001b[0;32m---> 48\u001b[0m     \u001b[39mreturn\u001b[39;00m os\u001b[39m.\u001b[39;49mpath\u001b[39m.\u001b[39;49mjoin(latest_dir, \u001b[39mself\u001b[39;49m\u001b[39m.\u001b[39;49mmodel_dir_name, MODEL_FILE_NAME)\n\u001b[1;32m     49\u001b[0m \u001b[39mexcept\u001b[39;00m \u001b[39mException\u001b[39;00m \u001b[39mas\u001b[39;00m e:\n",
      "File \u001b[0;32m/usr/lib/python3.8/posixpath.py:76\u001b[0m, in \u001b[0;36mjoin\u001b[0;34m(a, *p)\u001b[0m\n\u001b[1;32m     72\u001b[0m \u001b[39m\u001b[39m\u001b[39m\"\"\"Join two or more pathname components, inserting '/' as needed.\u001b[39;00m\n\u001b[1;32m     73\u001b[0m \u001b[39mIf any component is an absolute path, all previous path components\u001b[39;00m\n\u001b[1;32m     74\u001b[0m \u001b[39mwill be discarded.  An empty last part will result in a path that\u001b[39;00m\n\u001b[1;32m     75\u001b[0m \u001b[39mends with a separator.\"\"\"\u001b[39;00m\n\u001b[0;32m---> 76\u001b[0m a \u001b[39m=\u001b[39m os\u001b[39m.\u001b[39;49mfspath(a)\n\u001b[1;32m     77\u001b[0m sep \u001b[39m=\u001b[39m _get_sep(a)\n",
      "\u001b[0;31mTypeError\u001b[0m: expected str, bytes or os.PathLike object, not NoneType",
      "\nDuring handling of the above exception, another exception occurred:\n",
      "\u001b[0;31mSensorException\u001b[0m                           Traceback (most recent call last)",
      "Cell \u001b[0;32mIn[44], line 1\u001b[0m\n\u001b[0;32m----> 1\u001b[0m \u001b[43mm\u001b[49m\u001b[38;5;241;43m.\u001b[39;49m\u001b[43mget_latest_model_path\u001b[49m\u001b[43m(\u001b[49m\u001b[43m)\u001b[49m\n",
      "File \u001b[0;32m~/workspace/sensor/predictor.py:50\u001b[0m, in \u001b[0;36mModelResolver.get_latest_model_path\u001b[0;34m(self)\u001b[0m\n\u001b[1;32m     48\u001b[0m     \u001b[39mreturn\u001b[39;00m os\u001b[39m.\u001b[39mpath\u001b[39m.\u001b[39mjoin(latest_dir, \u001b[39mself\u001b[39m\u001b[39m.\u001b[39mmodel_dir_name, MODEL_FILE_NAME)\n\u001b[1;32m     49\u001b[0m \u001b[39mexcept\u001b[39;00m \u001b[39mException\u001b[39;00m \u001b[39mas\u001b[39;00m e:\n\u001b[0;32m---> 50\u001b[0m     \u001b[39mraise\u001b[39;00m SensorException(e, sys)\n",
      "\u001b[0;31mSensorException\u001b[0m: Error occurred python script name [/config/workspace/sensor/predictor.py] line number [48] error message [expected str, bytes or os.PathLike object, not NoneType]"
     ]
    }
   ],
   "source": [
    "m.get_latest_model_path()"
   ]
  },
  {
   "cell_type": "code",
   "execution_count": 38,
   "metadata": {},
   "outputs": [],
   "source": [
    "from sensor.P1 import ModelResolver\n",
    "a = ModelResolver()"
   ]
  },
  {
   "cell_type": "code",
   "execution_count": 39,
   "metadata": {},
   "outputs": [
    {
     "data": {
      "text/plain": [
       "'saved_models'"
      ]
     },
     "execution_count": 39,
     "metadata": {},
     "output_type": "execute_result"
    }
   ],
   "source": [
    "a.model_registry"
   ]
  },
  {
   "cell_type": "code",
   "execution_count": 47,
   "metadata": {},
   "outputs": [],
   "source": [
    "a.get_latest_dir_path()"
   ]
  },
  {
   "cell_type": "code",
   "execution_count": 46,
   "metadata": {},
   "outputs": [
    {
     "ename": "Exception",
     "evalue": "Model is not available",
     "output_type": "error",
     "traceback": [
      "\u001b[0;31m---------------------------------------------------------------------------\u001b[0m",
      "\u001b[0;31mException\u001b[0m                                 Traceback (most recent call last)",
      "Cell \u001b[0;32mIn[46], line 1\u001b[0m\n\u001b[0;32m----> 1\u001b[0m \u001b[43ma\u001b[49m\u001b[38;5;241;43m.\u001b[39;49m\u001b[43mget_latest_model_path\u001b[49m\u001b[43m(\u001b[49m\u001b[43m)\u001b[49m\n",
      "File \u001b[0;32m~/workspace/sensor/P1.py:39\u001b[0m, in \u001b[0;36mModelResolver.get_latest_model_path\u001b[0;34m(self)\u001b[0m\n\u001b[1;32m     37\u001b[0m     \u001b[39mreturn\u001b[39;00m os\u001b[39m.\u001b[39mpath\u001b[39m.\u001b[39mjoin(latest_dir,\u001b[39mself\u001b[39m\u001b[39m.\u001b[39mmodel_dir_name,MODEL_FILE_NAME)\n\u001b[1;32m     38\u001b[0m \u001b[39mexcept\u001b[39;00m \u001b[39mException\u001b[39;00m \u001b[39mas\u001b[39;00m e:\n\u001b[0;32m---> 39\u001b[0m     \u001b[39mraise\u001b[39;00m e\n",
      "File \u001b[0;32m~/workspace/sensor/P1.py:36\u001b[0m, in \u001b[0;36mModelResolver.get_latest_model_path\u001b[0;34m(self)\u001b[0m\n\u001b[1;32m     34\u001b[0m     latest_dir \u001b[39m=\u001b[39m \u001b[39mself\u001b[39m\u001b[39m.\u001b[39mget_latest_dir_path()\n\u001b[1;32m     35\u001b[0m     \u001b[39mif\u001b[39;00m latest_dir \u001b[39mis\u001b[39;00m \u001b[39mNone\u001b[39;00m:\n\u001b[0;32m---> 36\u001b[0m         \u001b[39mraise\u001b[39;00m \u001b[39mException\u001b[39;00m(\u001b[39mf\u001b[39m\u001b[39m\"\u001b[39m\u001b[39mModel is not available\u001b[39m\u001b[39m\"\u001b[39m)\n\u001b[1;32m     37\u001b[0m     \u001b[39mreturn\u001b[39;00m os\u001b[39m.\u001b[39mpath\u001b[39m.\u001b[39mjoin(latest_dir,\u001b[39mself\u001b[39m\u001b[39m.\u001b[39mmodel_dir_name,MODEL_FILE_NAME)\n\u001b[1;32m     38\u001b[0m \u001b[39mexcept\u001b[39;00m \u001b[39mException\u001b[39;00m \u001b[39mas\u001b[39;00m e:\n",
      "\u001b[0;31mException\u001b[0m: Model is not available"
     ]
    }
   ],
   "source": [
    "a.get_latest_model_path()"
   ]
  },
  {
   "cell_type": "code",
   "execution_count": null,
   "metadata": {},
   "outputs": [],
   "source": []
  },
  {
   "cell_type": "code",
   "execution_count": null,
   "metadata": {},
   "outputs": [],
   "source": []
  }
 ],
 "metadata": {
  "kernelspec": {
   "display_name": "Python 3.8.10 64-bit",
   "language": "python",
   "name": "python3"
  },
  "language_info": {
   "codemirror_mode": {
    "name": "ipython",
    "version": 3
   },
   "file_extension": ".py",
   "mimetype": "text/x-python",
   "name": "python",
   "nbconvert_exporter": "python",
   "pygments_lexer": "ipython3",
   "version": "3.8.10"
  },
  "orig_nbformat": 4,
  "vscode": {
   "interpreter": {
    "hash": "e7370f93d1d0cde622a1f8e1c04877d8463912d04d973331ad4851f04de6915a"
   }
  }
 },
 "nbformat": 4,
 "nbformat_minor": 2
}
